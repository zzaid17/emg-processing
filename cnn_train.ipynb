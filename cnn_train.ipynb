{
 "cells": [
  {
   "cell_type": "markdown",
   "metadata": {},
   "source": [
    "**Import libraries**"
   ]
  },
  {
   "cell_type": "code",
   "execution_count": 3,
   "metadata": {},
   "outputs": [],
   "source": [
    "import os\n",
    "import numpy as np\n",
    "import matplotlib.pyplot as plt\n",
    "import pandas as pd\n",
    "from sklearn.preprocessing import StandardScaler\n",
    "from sklearn.model_selection import train_test_split\n",
    "import tensorflow as tf\n",
    "from tensorflow.keras.models import Sequential\n",
    "from tensorflow.keras.layers import Conv1D, Dense, Flatten, Dropout, MaxPooling1D\n",
    "from tensorflow.keras.optimizers import Adam\n",
    "from tensorflow.keras.utils import to_categorical"
   ]
  },
  {
   "cell_type": "markdown",
   "metadata": {},
   "source": [
    "**Load file as dataframe**"
   ]
  },
  {
   "cell_type": "code",
   "execution_count": 6,
   "metadata": {},
   "outputs": [
    {
     "name": "stdout",
     "output_type": "stream",
     "text": [
      "Merged dataset saved as 'merged_emg_data.csv'.\n",
      "   gesture_repetition  grip_pattern   ch1_env  ch1_raw   ch2_env  ch2_raw  \\\n",
      "0                   1             1  0.103607  2.87193  0.154266  2.88742   \n",
      "1                   1             1  0.103683  2.87384  0.154190  2.88933   \n",
      "2                   1             1  0.103760  2.87804  0.154343  2.88811   \n",
      "3                   1             1  0.103302  2.87369  0.153809  2.89009   \n",
      "4                   1             1  0.103531  2.87132  0.154114  2.89024   \n",
      "\n",
      "    ch3_env  ch3_raw  \n",
      "0  0.089569  2.88391  \n",
      "1  0.089722  2.88284  \n",
      "2  0.089645  2.87964  \n",
      "3  0.089645  2.87750  \n",
      "4  0.091171  2.87956  \n"
     ]
    }
   ],
   "source": [
    "folder_path = \"emg_data_original\"\n",
    "file_names = [f\"grip_{i}.txt\" for i in range(1, 13)]  # grip_1.txt to grip_12.txt\n",
    "\n",
    "# Initialize an empty list to store DataFrames\n",
    "all_data = []\n",
    "\n",
    "# Loop through each file and load its data\n",
    "for grip_num, file_name in enumerate(file_names, start=1):\n",
    "    file_path = os.path.join(folder_path, file_name)\n",
    "    \n",
    "    data = []\n",
    "    gesture_repetition = 0\n",
    "\n",
    "    # Read the file line by line\n",
    "    with open(file_path, \"r\") as file:\n",
    "        for line in file:\n",
    "            line = line.strip()\n",
    "\n",
    "            # If \"#\" appears, increase repetition count\n",
    "            if line.startswith(\"#\"):\n",
    "                gesture_repetition += 1\n",
    "                continue\n",
    "\n",
    "            # Split by \";\" and convert to float\n",
    "            values = line.split(\";\")\n",
    "            values = [float(v) for v in values if v]\n",
    "\n",
    "            # Append to list with repetition index and grip pattern label\n",
    "            data.append([gesture_repetition, grip_num] + values)\n",
    "\n",
    "    # Convert to DataFrame\n",
    "    columns = [\"gesture_repetition\", \"grip_pattern\", \"ch1_env\", \"ch1_raw\", \"ch2_env\", \"ch2_raw\", \"ch3_env\", \"ch3_raw\"]\n",
    "    df = pd.DataFrame(data, columns=columns)\n",
    "    df.dropna(inplace=True)  # Remove NaNs if any\n",
    "\n",
    "    # Append to master list\n",
    "    all_data.append(df)\n",
    "\n",
    "# Merge all DataFrames into one\n",
    "merged_df = pd.concat(all_data, ignore_index=True)\n",
    "\n",
    "# Save merged dataset to CSV\n",
    "merged_df.to_csv(\"emg_data_processed/merged_emg_data.csv\", index=False)\n",
    "\n",
    "print(\"Merged dataset saved as 'merged_emg_data.csv'.\")\n",
    "print(merged_df.head())  # Show first few rows"
   ]
  },
  {
   "cell_type": "markdown",
   "metadata": {},
   "source": [
    "**Sliding windows**"
   ]
  },
  {
   "cell_type": "code",
   "execution_count": null,
   "metadata": {},
   "outputs": [
    {
     "name": "stdout",
     "output_type": "stream",
     "text": [
      "Sliding windows dataset saved as 'sliding_windows_emg.csv'.\n",
      "   feature_0  feature_1  feature_2  feature_3  feature_4  feature_5  \\\n",
      "0   0.103607    2.87193   0.154266    2.88742   0.089569    2.88391   \n",
      "1   0.103226    2.87399   0.170288    2.89063   0.092850    2.87590   \n",
      "2   0.103226    2.87262   0.179596    2.88712   0.098114    2.88811   \n",
      "3   0.103607    2.87064   0.186920    2.89444   0.091705    2.89230   \n",
      "4   0.103073    2.87788   0.178757    2.89055   0.100250    2.88437   \n",
      "\n",
      "   feature_6  feature_7  feature_8  feature_9  ...  feature_1191  \\\n",
      "0   0.103683    2.87384   0.154190    2.88933  ...       2.89162   \n",
      "1   0.103226    2.87491   0.170059    2.89383  ...       2.88643   \n",
      "2   0.103226    2.87262   0.180054    2.88872  ...       2.88979   \n",
      "3   0.103607    2.87415   0.186615    2.88948  ...       2.89459   \n",
      "4   0.103302    2.87247   0.177612    2.89413  ...       2.88956   \n",
      "\n",
      "   feature_1192  feature_1193  feature_1194  feature_1195  feature_1196  \\\n",
      "0      0.101242       2.88658      0.103836       2.87544      0.178299   \n",
      "1      0.113525       2.88132      0.102921       2.87170      0.184860   \n",
      "2      0.095825       2.88048      0.102158       2.86827      0.173798   \n",
      "3      0.092392       2.87941      0.102921       2.87056      0.168839   \n",
      "4      0.090637       2.88712      0.102386       2.86949      0.159760   \n",
      "\n",
      "   feature_1197  feature_1198  feature_1199  grip_pattern  \n",
      "0       2.89200      0.101318       2.88246           1.0  \n",
      "1       2.88391      0.113144       2.88925           1.0  \n",
      "2       2.88811      0.095444       2.88315           1.0  \n",
      "3       2.88712      0.092316       2.88445           1.0  \n",
      "4       2.89261      0.090942       2.88544           1.0  \n",
      "\n",
      "[5 rows x 1201 columns]\n"
     ]
    }
   ],
   "source": [
    "df = pd.read_csv(\"emg_data_processed/merged_emg_data.csv\")\n",
    "\n",
    "WINDOW_SIZE = 200  # 200 time steps per window\n",
    "STEP_SIZE = 50  # Overlapping step size\n",
    "\n",
    "windowed_data = []\n",
    "windowed_labels = []\n",
    "\n",
    "# Loop through each gesture repetition\n",
    "for repetition in df[\"gesture_repetition\"].unique():\n",
    "    subset = df[df[\"gesture_repetition\"] == repetition]  # Filter one repetition\n",
    "\n",
    "    # Apply sliding window segmentation\n",
    "    for start in range(0, len(subset) - WINDOW_SIZE, STEP_SIZE):\n",
    "        window = subset.iloc[start : start + WINDOW_SIZE].drop(columns=[\"gesture_repetition\", \"grip_pattern\"])\n",
    "        windowed_data.append(window.values.flatten())  # Flatten to 1D\n",
    "        windowed_labels.append(subset[\"grip_pattern\"].iloc[start])  # Use first row's label\n",
    "\n",
    "# Convert to DataFrame\n",
    "num_features = WINDOW_SIZE * 6  # 6 EMG channels per time step\n",
    "columns = [f\"feature_{i}\" for i in range(num_features)] + [\"grip_pattern\"]\n",
    "windowed_df = pd.DataFrame(np.column_stack((windowed_data, windowed_labels)), columns=columns)\n",
    "\n",
    "# Save processed dataset\n",
    "windowed_df.to_csv(\"emg_data_processed/sliding_windows_emg.csv\", index=False)\n",
    "\n",
    "print(windowed_df.head())  # Check the first few rows"
   ]
  },
  {
   "cell_type": "markdown",
   "metadata": {},
   "source": [
    "**Load and preprocess data for CNN**"
   ]
  },
  {
   "cell_type": "code",
   "execution_count": 9,
   "metadata": {},
   "outputs": [
    {
     "name": "stdout",
     "output_type": "stream",
     "text": [
      "Training Data Shape: (77628, 200, 6)\n",
      "Testing Data Shape: (19407, 200, 6)\n"
     ]
    }
   ],
   "source": [
    "df = pd.read_csv(\"emg_data_processed/sliding_windows_emg.csv\")\n",
    "\n",
    "# Separate features and labels\n",
    "X = df.drop(columns=[\"grip_pattern\"]).values\n",
    "y = df[\"grip_pattern\"].values\n",
    "\n",
    "# Normalize for CNN performance\n",
    "scaler = StandardScaler()\n",
    "X = scaler.fit_transform(X)\n",
    "\n",
    "# Reshape for CNN: (samples, time_steps, channels)\n",
    "time_steps = 200  # Each window has 200 time steps\n",
    "num_channels = 6  # 6 EMG signals per time step\n",
    "X = X.reshape((X.shape[0], time_steps, num_channels))\n",
    "\n",
    "# Split data: 80% train, 20% test\n",
    "X_train, X_test, y_train, y_test = train_test_split(X, y, test_size=0.2, stratify=y)\n",
    "\n",
    "print(f\"Training Data Shape: {X_train.shape}\")\n",
    "print(f\"Testing Data Shape: {X_test.shape}\")"
   ]
  },
  {
   "cell_type": "markdown",
   "metadata": {},
   "source": [
    "**One hot encoding for gesture labels**"
   ]
  },
  {
   "cell_type": "code",
   "execution_count": 10,
   "metadata": {},
   "outputs": [
    {
     "name": "stdout",
     "output_type": "stream",
     "text": [
      "[[0. 0. 0. 0. 0. 0. 0. 0. 0. 0. 1. 0.]\n",
      " [0. 0. 0. 0. 0. 0. 0. 1. 0. 0. 0. 0.]\n",
      " [0. 0. 0. 0. 1. 0. 0. 0. 0. 0. 0. 0.]\n",
      " [0. 0. 0. 0. 0. 0. 0. 0. 1. 0. 0. 0.]\n",
      " [0. 0. 0. 0. 0. 0. 0. 0. 0. 0. 1. 0.]]\n"
     ]
    }
   ],
   "source": [
    "y_train = np.array(y_train) - 1\n",
    "y_test = np.array(y_test) - 1\n",
    "\n",
    "# 12 grip patterns\n",
    "num_classes = len(np.unique(y_train))\n",
    "\n",
    "# Integer to one-hot encoding\n",
    "y_train = to_categorical(y_train, num_classes)\n",
    "y_test = to_categorical(y_test, num_classes)\n",
    "\n",
    "print(y_train[:5])  # Print first 5 labels in one-hot format"
   ]
  },
  {
   "cell_type": "markdown",
   "metadata": {},
   "source": [
    "**Build CNN**"
   ]
  },
  {
   "cell_type": "code",
   "execution_count": 12,
   "metadata": {},
   "outputs": [
    {
     "name": "stderr",
     "output_type": "stream",
     "text": [
      "c:\\Users\\Zaid\\AppData\\Local\\Programs\\Python\\Python311\\Lib\\site-packages\\keras\\src\\layers\\convolutional\\base_conv.py:107: UserWarning: Do not pass an `input_shape`/`input_dim` argument to a layer. When using Sequential models, prefer using an `Input(shape)` object as the first layer in the model instead.\n",
      "  super().__init__(activity_regularizer=activity_regularizer, **kwargs)\n"
     ]
    },
    {
     "data": {
      "text/html": [
       "<pre style=\"white-space:pre;overflow-x:auto;line-height:normal;font-family:Menlo,'DejaVu Sans Mono',consolas,'Courier New',monospace\"><span style=\"font-weight: bold\">Model: \"sequential_1\"</span>\n",
       "</pre>\n"
      ],
      "text/plain": [
       "\u001b[1mModel: \"sequential_1\"\u001b[0m\n"
      ]
     },
     "metadata": {},
     "output_type": "display_data"
    },
    {
     "data": {
      "text/html": [
       "<pre style=\"white-space:pre;overflow-x:auto;line-height:normal;font-family:Menlo,'DejaVu Sans Mono',consolas,'Courier New',monospace\">┏━━━━━━━━━━━━━━━━━━━━━━━━━━━━━━━━━┳━━━━━━━━━━━━━━━━━━━━━━━━┳━━━━━━━━━━━━━━━┓\n",
       "┃<span style=\"font-weight: bold\"> Layer (type)                    </span>┃<span style=\"font-weight: bold\"> Output Shape           </span>┃<span style=\"font-weight: bold\">       Param # </span>┃\n",
       "┡━━━━━━━━━━━━━━━━━━━━━━━━━━━━━━━━━╇━━━━━━━━━━━━━━━━━━━━━━━━╇━━━━━━━━━━━━━━━┩\n",
       "│ conv1d_2 (<span style=\"color: #0087ff; text-decoration-color: #0087ff\">Conv1D</span>)               │ (<span style=\"color: #00d7ff; text-decoration-color: #00d7ff\">None</span>, <span style=\"color: #00af00; text-decoration-color: #00af00\">198</span>, <span style=\"color: #00af00; text-decoration-color: #00af00\">64</span>)        │         <span style=\"color: #00af00; text-decoration-color: #00af00\">1,216</span> │\n",
       "├─────────────────────────────────┼────────────────────────┼───────────────┤\n",
       "│ max_pooling1d_2 (<span style=\"color: #0087ff; text-decoration-color: #0087ff\">MaxPooling1D</span>)  │ (<span style=\"color: #00d7ff; text-decoration-color: #00d7ff\">None</span>, <span style=\"color: #00af00; text-decoration-color: #00af00\">99</span>, <span style=\"color: #00af00; text-decoration-color: #00af00\">64</span>)         │             <span style=\"color: #00af00; text-decoration-color: #00af00\">0</span> │\n",
       "├─────────────────────────────────┼────────────────────────┼───────────────┤\n",
       "│ conv1d_3 (<span style=\"color: #0087ff; text-decoration-color: #0087ff\">Conv1D</span>)               │ (<span style=\"color: #00d7ff; text-decoration-color: #00d7ff\">None</span>, <span style=\"color: #00af00; text-decoration-color: #00af00\">97</span>, <span style=\"color: #00af00; text-decoration-color: #00af00\">128</span>)        │        <span style=\"color: #00af00; text-decoration-color: #00af00\">24,704</span> │\n",
       "├─────────────────────────────────┼────────────────────────┼───────────────┤\n",
       "│ max_pooling1d_3 (<span style=\"color: #0087ff; text-decoration-color: #0087ff\">MaxPooling1D</span>)  │ (<span style=\"color: #00d7ff; text-decoration-color: #00d7ff\">None</span>, <span style=\"color: #00af00; text-decoration-color: #00af00\">48</span>, <span style=\"color: #00af00; text-decoration-color: #00af00\">128</span>)        │             <span style=\"color: #00af00; text-decoration-color: #00af00\">0</span> │\n",
       "├─────────────────────────────────┼────────────────────────┼───────────────┤\n",
       "│ flatten_1 (<span style=\"color: #0087ff; text-decoration-color: #0087ff\">Flatten</span>)             │ (<span style=\"color: #00d7ff; text-decoration-color: #00d7ff\">None</span>, <span style=\"color: #00af00; text-decoration-color: #00af00\">6144</span>)           │             <span style=\"color: #00af00; text-decoration-color: #00af00\">0</span> │\n",
       "├─────────────────────────────────┼────────────────────────┼───────────────┤\n",
       "│ dense_2 (<span style=\"color: #0087ff; text-decoration-color: #0087ff\">Dense</span>)                 │ (<span style=\"color: #00d7ff; text-decoration-color: #00d7ff\">None</span>, <span style=\"color: #00af00; text-decoration-color: #00af00\">128</span>)            │       <span style=\"color: #00af00; text-decoration-color: #00af00\">786,560</span> │\n",
       "├─────────────────────────────────┼────────────────────────┼───────────────┤\n",
       "│ dropout_1 (<span style=\"color: #0087ff; text-decoration-color: #0087ff\">Dropout</span>)             │ (<span style=\"color: #00d7ff; text-decoration-color: #00d7ff\">None</span>, <span style=\"color: #00af00; text-decoration-color: #00af00\">128</span>)            │             <span style=\"color: #00af00; text-decoration-color: #00af00\">0</span> │\n",
       "├─────────────────────────────────┼────────────────────────┼───────────────┤\n",
       "│ dense_3 (<span style=\"color: #0087ff; text-decoration-color: #0087ff\">Dense</span>)                 │ (<span style=\"color: #00d7ff; text-decoration-color: #00d7ff\">None</span>, <span style=\"color: #00af00; text-decoration-color: #00af00\">12</span>)             │         <span style=\"color: #00af00; text-decoration-color: #00af00\">1,548</span> │\n",
       "└─────────────────────────────────┴────────────────────────┴───────────────┘\n",
       "</pre>\n"
      ],
      "text/plain": [
       "┏━━━━━━━━━━━━━━━━━━━━━━━━━━━━━━━━━┳━━━━━━━━━━━━━━━━━━━━━━━━┳━━━━━━━━━━━━━━━┓\n",
       "┃\u001b[1m \u001b[0m\u001b[1mLayer (type)                   \u001b[0m\u001b[1m \u001b[0m┃\u001b[1m \u001b[0m\u001b[1mOutput Shape          \u001b[0m\u001b[1m \u001b[0m┃\u001b[1m \u001b[0m\u001b[1m      Param #\u001b[0m\u001b[1m \u001b[0m┃\n",
       "┡━━━━━━━━━━━━━━━━━━━━━━━━━━━━━━━━━╇━━━━━━━━━━━━━━━━━━━━━━━━╇━━━━━━━━━━━━━━━┩\n",
       "│ conv1d_2 (\u001b[38;5;33mConv1D\u001b[0m)               │ (\u001b[38;5;45mNone\u001b[0m, \u001b[38;5;34m198\u001b[0m, \u001b[38;5;34m64\u001b[0m)        │         \u001b[38;5;34m1,216\u001b[0m │\n",
       "├─────────────────────────────────┼────────────────────────┼───────────────┤\n",
       "│ max_pooling1d_2 (\u001b[38;5;33mMaxPooling1D\u001b[0m)  │ (\u001b[38;5;45mNone\u001b[0m, \u001b[38;5;34m99\u001b[0m, \u001b[38;5;34m64\u001b[0m)         │             \u001b[38;5;34m0\u001b[0m │\n",
       "├─────────────────────────────────┼────────────────────────┼───────────────┤\n",
       "│ conv1d_3 (\u001b[38;5;33mConv1D\u001b[0m)               │ (\u001b[38;5;45mNone\u001b[0m, \u001b[38;5;34m97\u001b[0m, \u001b[38;5;34m128\u001b[0m)        │        \u001b[38;5;34m24,704\u001b[0m │\n",
       "├─────────────────────────────────┼────────────────────────┼───────────────┤\n",
       "│ max_pooling1d_3 (\u001b[38;5;33mMaxPooling1D\u001b[0m)  │ (\u001b[38;5;45mNone\u001b[0m, \u001b[38;5;34m48\u001b[0m, \u001b[38;5;34m128\u001b[0m)        │             \u001b[38;5;34m0\u001b[0m │\n",
       "├─────────────────────────────────┼────────────────────────┼───────────────┤\n",
       "│ flatten_1 (\u001b[38;5;33mFlatten\u001b[0m)             │ (\u001b[38;5;45mNone\u001b[0m, \u001b[38;5;34m6144\u001b[0m)           │             \u001b[38;5;34m0\u001b[0m │\n",
       "├─────────────────────────────────┼────────────────────────┼───────────────┤\n",
       "│ dense_2 (\u001b[38;5;33mDense\u001b[0m)                 │ (\u001b[38;5;45mNone\u001b[0m, \u001b[38;5;34m128\u001b[0m)            │       \u001b[38;5;34m786,560\u001b[0m │\n",
       "├─────────────────────────────────┼────────────────────────┼───────────────┤\n",
       "│ dropout_1 (\u001b[38;5;33mDropout\u001b[0m)             │ (\u001b[38;5;45mNone\u001b[0m, \u001b[38;5;34m128\u001b[0m)            │             \u001b[38;5;34m0\u001b[0m │\n",
       "├─────────────────────────────────┼────────────────────────┼───────────────┤\n",
       "│ dense_3 (\u001b[38;5;33mDense\u001b[0m)                 │ (\u001b[38;5;45mNone\u001b[0m, \u001b[38;5;34m12\u001b[0m)             │         \u001b[38;5;34m1,548\u001b[0m │\n",
       "└─────────────────────────────────┴────────────────────────┴───────────────┘\n"
      ]
     },
     "metadata": {},
     "output_type": "display_data"
    },
    {
     "data": {
      "text/html": [
       "<pre style=\"white-space:pre;overflow-x:auto;line-height:normal;font-family:Menlo,'DejaVu Sans Mono',consolas,'Courier New',monospace\"><span style=\"font-weight: bold\"> Total params: </span><span style=\"color: #00af00; text-decoration-color: #00af00\">814,028</span> (3.11 MB)\n",
       "</pre>\n"
      ],
      "text/plain": [
       "\u001b[1m Total params: \u001b[0m\u001b[38;5;34m814,028\u001b[0m (3.11 MB)\n"
      ]
     },
     "metadata": {},
     "output_type": "display_data"
    },
    {
     "data": {
      "text/html": [
       "<pre style=\"white-space:pre;overflow-x:auto;line-height:normal;font-family:Menlo,'DejaVu Sans Mono',consolas,'Courier New',monospace\"><span style=\"font-weight: bold\"> Trainable params: </span><span style=\"color: #00af00; text-decoration-color: #00af00\">814,028</span> (3.11 MB)\n",
       "</pre>\n"
      ],
      "text/plain": [
       "\u001b[1m Trainable params: \u001b[0m\u001b[38;5;34m814,028\u001b[0m (3.11 MB)\n"
      ]
     },
     "metadata": {},
     "output_type": "display_data"
    },
    {
     "data": {
      "text/html": [
       "<pre style=\"white-space:pre;overflow-x:auto;line-height:normal;font-family:Menlo,'DejaVu Sans Mono',consolas,'Courier New',monospace\"><span style=\"font-weight: bold\"> Non-trainable params: </span><span style=\"color: #00af00; text-decoration-color: #00af00\">0</span> (0.00 B)\n",
       "</pre>\n"
      ],
      "text/plain": [
       "\u001b[1m Non-trainable params: \u001b[0m\u001b[38;5;34m0\u001b[0m (0.00 B)\n"
      ]
     },
     "metadata": {},
     "output_type": "display_data"
    }
   ],
   "source": [
    "# Multiclass classification for 12 EMG movements\n",
    "\n",
    "model = Sequential([\n",
    "    Conv1D(64, kernel_size=3, activation='relu', input_shape=(time_steps, num_channels)),\n",
    "    MaxPooling1D(pool_size=2),\n",
    "    Conv1D(128, kernel_size=3, activation='relu'),\n",
    "    MaxPooling1D(pool_size=2),\n",
    "    Flatten(),\n",
    "    Dense(128, activation='relu'),\n",
    "    Dropout(0.5),\n",
    "    Dense(num_classes, activation='softmax')\n",
    "])\n",
    "\n",
    "model.compile(optimizer=Adam(learning_rate=0.001), \n",
    "              loss='categorical_crossentropy', metrics=['accuracy'])\n",
    "\n",
    "model.summary()"
   ]
  },
  {
   "cell_type": "markdown",
   "metadata": {},
   "source": [
    "**Train model**"
   ]
  },
  {
   "cell_type": "code",
   "execution_count": 13,
   "metadata": {},
   "outputs": [
    {
     "name": "stdout",
     "output_type": "stream",
     "text": [
      "Epoch 1/20\n",
      "\u001b[1m2426/2426\u001b[0m \u001b[32m━━━━━━━━━━━━━━━━━━━━\u001b[0m\u001b[37m\u001b[0m \u001b[1m22s\u001b[0m 9ms/step - accuracy: 0.7512 - loss: 0.6557 - val_accuracy: 0.9410 - val_loss: 0.1576\n",
      "Epoch 2/20\n",
      "\u001b[1m2426/2426\u001b[0m \u001b[32m━━━━━━━━━━━━━━━━━━━━\u001b[0m\u001b[37m\u001b[0m \u001b[1m21s\u001b[0m 8ms/step - accuracy: 0.9169 - loss: 0.2280 - val_accuracy: 0.9608 - val_loss: 0.1019\n",
      "Epoch 3/20\n",
      "\u001b[1m2426/2426\u001b[0m \u001b[32m━━━━━━━━━━━━━━━━━━━━\u001b[0m\u001b[37m\u001b[0m \u001b[1m20s\u001b[0m 8ms/step - accuracy: 0.9361 - loss: 0.1802 - val_accuracy: 0.9674 - val_loss: 0.0987\n",
      "Epoch 4/20\n",
      "\u001b[1m2426/2426\u001b[0m \u001b[32m━━━━━━━━━━━━━━━━━━━━\u001b[0m\u001b[37m\u001b[0m \u001b[1m20s\u001b[0m 8ms/step - accuracy: 0.9516 - loss: 0.1381 - val_accuracy: 0.9648 - val_loss: 0.0855\n",
      "Epoch 5/20\n",
      "\u001b[1m2426/2426\u001b[0m \u001b[32m━━━━━━━━━━━━━━━━━━━━\u001b[0m\u001b[37m\u001b[0m \u001b[1m20s\u001b[0m 8ms/step - accuracy: 0.9574 - loss: 0.1233 - val_accuracy: 0.9651 - val_loss: 0.0925\n",
      "Epoch 6/20\n",
      "\u001b[1m2426/2426\u001b[0m \u001b[32m━━━━━━━━━━━━━━━━━━━━\u001b[0m\u001b[37m\u001b[0m \u001b[1m20s\u001b[0m 8ms/step - accuracy: 0.9602 - loss: 0.1142 - val_accuracy: 0.9719 - val_loss: 0.0723\n",
      "Epoch 7/20\n",
      "\u001b[1m2426/2426\u001b[0m \u001b[32m━━━━━━━━━━━━━━━━━━━━\u001b[0m\u001b[37m\u001b[0m \u001b[1m21s\u001b[0m 8ms/step - accuracy: 0.9634 - loss: 0.1115 - val_accuracy: 0.9641 - val_loss: 0.1158\n",
      "Epoch 8/20\n",
      "\u001b[1m2426/2426\u001b[0m \u001b[32m━━━━━━━━━━━━━━━━━━━━\u001b[0m\u001b[37m\u001b[0m \u001b[1m20s\u001b[0m 8ms/step - accuracy: 0.9652 - loss: 0.1039 - val_accuracy: 0.9662 - val_loss: 0.0946\n",
      "Epoch 9/20\n",
      "\u001b[1m2426/2426\u001b[0m \u001b[32m━━━━━━━━━━━━━━━━━━━━\u001b[0m\u001b[37m\u001b[0m \u001b[1m20s\u001b[0m 8ms/step - accuracy: 0.9663 - loss: 0.1023 - val_accuracy: 0.9626 - val_loss: 0.1028\n",
      "Epoch 10/20\n",
      "\u001b[1m2426/2426\u001b[0m \u001b[32m━━━━━━━━━━━━━━━━━━━━\u001b[0m\u001b[37m\u001b[0m \u001b[1m20s\u001b[0m 8ms/step - accuracy: 0.9698 - loss: 0.0855 - val_accuracy: 0.9745 - val_loss: 0.0706\n",
      "Epoch 11/20\n",
      "\u001b[1m2426/2426\u001b[0m \u001b[32m━━━━━━━━━━━━━━━━━━━━\u001b[0m\u001b[37m\u001b[0m \u001b[1m20s\u001b[0m 8ms/step - accuracy: 0.9701 - loss: 0.0908 - val_accuracy: 0.9648 - val_loss: 0.1042\n",
      "Epoch 12/20\n",
      "\u001b[1m2426/2426\u001b[0m \u001b[32m━━━━━━━━━━━━━━━━━━━━\u001b[0m\u001b[37m\u001b[0m \u001b[1m21s\u001b[0m 9ms/step - accuracy: 0.9721 - loss: 0.0929 - val_accuracy: 0.9779 - val_loss: 0.0687\n",
      "Epoch 13/20\n",
      "\u001b[1m2426/2426\u001b[0m \u001b[32m━━━━━━━━━━━━━━━━━━━━\u001b[0m\u001b[37m\u001b[0m \u001b[1m21s\u001b[0m 9ms/step - accuracy: 0.9740 - loss: 0.0771 - val_accuracy: 0.9500 - val_loss: 0.1720\n",
      "Epoch 14/20\n",
      "\u001b[1m2426/2426\u001b[0m \u001b[32m━━━━━━━━━━━━━━━━━━━━\u001b[0m\u001b[37m\u001b[0m \u001b[1m21s\u001b[0m 8ms/step - accuracy: 0.9762 - loss: 0.0716 - val_accuracy: 0.9851 - val_loss: 0.0491\n",
      "Epoch 15/20\n",
      "\u001b[1m2426/2426\u001b[0m \u001b[32m━━━━━━━━━━━━━━━━━━━━\u001b[0m\u001b[37m\u001b[0m \u001b[1m20s\u001b[0m 8ms/step - accuracy: 0.9768 - loss: 0.0733 - val_accuracy: 0.9780 - val_loss: 0.0684\n",
      "Epoch 16/20\n",
      "\u001b[1m2426/2426\u001b[0m \u001b[32m━━━━━━━━━━━━━━━━━━━━\u001b[0m\u001b[37m\u001b[0m \u001b[1m20s\u001b[0m 8ms/step - accuracy: 0.9762 - loss: 0.0724 - val_accuracy: 0.9810 - val_loss: 0.0542\n",
      "Epoch 17/20\n",
      "\u001b[1m2426/2426\u001b[0m \u001b[32m━━━━━━━━━━━━━━━━━━━━\u001b[0m\u001b[37m\u001b[0m \u001b[1m21s\u001b[0m 8ms/step - accuracy: 0.9785 - loss: 0.0628 - val_accuracy: 0.9830 - val_loss: 0.1411\n",
      "Epoch 18/20\n",
      "\u001b[1m2426/2426\u001b[0m \u001b[32m━━━━━━━━━━━━━━━━━━━━\u001b[0m\u001b[37m\u001b[0m \u001b[1m21s\u001b[0m 8ms/step - accuracy: 0.9780 - loss: 0.0734 - val_accuracy: 0.9802 - val_loss: 0.0624\n",
      "Epoch 19/20\n",
      "\u001b[1m2426/2426\u001b[0m \u001b[32m━━━━━━━━━━━━━━━━━━━━\u001b[0m\u001b[37m\u001b[0m \u001b[1m21s\u001b[0m 9ms/step - accuracy: 0.9803 - loss: 0.0596 - val_accuracy: 0.9829 - val_loss: 0.0545\n",
      "Epoch 20/20\n",
      "\u001b[1m2426/2426\u001b[0m \u001b[32m━━━━━━━━━━━━━━━━━━━━\u001b[0m\u001b[37m\u001b[0m \u001b[1m20s\u001b[0m 8ms/step - accuracy: 0.9791 - loss: 0.0673 - val_accuracy: 0.9722 - val_loss: 0.0811\n",
      "\u001b[1m607/607\u001b[0m \u001b[32m━━━━━━━━━━━━━━━━━━━━\u001b[0m\u001b[37m\u001b[0m \u001b[1m1s\u001b[0m 2ms/step - accuracy: 0.9721 - loss: 0.0797\n",
      "Test Accuracy: 0.97\n"
     ]
    }
   ],
   "source": [
    "history = model.fit(X_train, y_train, epochs=20, batch_size=32, validation_data=(X_test, y_test))\n",
    "\n",
    "test_loss, test_acc = model.evaluate(X_test, y_test)\n",
    "print(f\"Test Accuracy: {test_acc:.2f}\")"
   ]
  },
  {
   "cell_type": "markdown",
   "metadata": {},
   "source": [
    "**Accuracy/loss plots**"
   ]
  },
  {
   "cell_type": "code",
   "execution_count": 14,
   "metadata": {},
   "outputs": [
    {
     "data": {
      "image/png": "[encoded data removed]",
      "text/plain": [
       "<Figure size 640x480 with 1 Axes>"
      ]
     },
     "metadata": {},
     "output_type": "display_data"
    },
    {
     "data": {
      "image/png": "[encoded data removed]",
      "text/plain": [
       "<Figure size 640x480 with 1 Axes>"
      ]
     },
     "metadata": {},
     "output_type": "display_data"
    }
   ],
   "source": [
    "# Plot training & validation accuracy\n",
    "plt.plot(history.history['accuracy'], label='Training Accuracy')\n",
    "plt.plot(history.history['val_accuracy'], label='Validation Accuracy')\n",
    "plt.xlabel(\"Epoch\")\n",
    "plt.ylabel(\"Accuracy\")\n",
    "plt.legend()\n",
    "plt.title(\"CNN Training Progress\")\n",
    "plt.show()\n",
    "\n",
    "# Plot training & validation loss\n",
    "plt.plot(history.history['loss'], label='Training Loss')\n",
    "plt.plot(history.history['val_loss'], label='Validation Loss')\n",
    "plt.xlabel(\"Epoch\")\n",
    "plt.ylabel(\"Loss\")\n",
    "plt.legend()\n",
    "plt.title(\"CNN Loss Progress\")\n",
    "plt.show()"
   ]
  },
  {
   "cell_type": "markdown",
   "metadata": {},
   "source": [
    "**Save model**"
   ]
  },
  {
   "cell_type": "code",
   "execution_count": 18,
   "metadata": {},
   "outputs": [
    {
     "name": "stdout",
     "output_type": "stream",
     "text": [
      "Model saved successfully!\n"
     ]
    }
   ],
   "source": [
    "model.save(\"models/emg_cnn_model.keras\")\n",
    "print(\"Model saved successfully!\")"
   ]
  }
 ],
 "metadata": {
  "kernelspec": {
   "display_name": "Python 3",
   "language": "python",
   "name": "python3"
  },
  "language_info": {
   "codemirror_mode": {
    "name": "ipython",
    "version": 3
   },
   "file_extension": ".py",
   "mimetype": "text/x-python",
   "name": "python",
   "nbconvert_exporter": "python",
   "pygments_lexer": "ipython3",
   "version": "3.11.0"
  }
 },
 "nbformat": 4,
 "nbformat_minor": 2
}
